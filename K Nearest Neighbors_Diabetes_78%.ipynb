{
  "cells": [
    {
      "metadata": {
        "collapsed": true,
        "trusted": true
      },
      "cell_type": "markdown",
      "source": "#                                                      KNN Model"
    },
    {
      "metadata": {
        "trusted": true
      },
      "cell_type": "code",
      "source": "import pandas as pd\nimport numpy as np\nimport matplotlib.pyplot as plt\nimport seaborn as sns\nfrom sklearn.model_selection import train_test_split\nfrom sklearn.preprocessing import StandardScaler\nfrom sklearn.neighbors import KNeighborsClassifier\nfrom sklearn.metrics import confusion_matrix\nfrom sklearn.metrics import f1_score\nfrom sklearn.metrics import accuracy_score",
      "execution_count": 1,
      "outputs": []
    },
    {
      "metadata": {
        "trusted": true
      },
      "cell_type": "code",
      "source": "dia = pd.read_csv('diabetes.csv')",
      "execution_count": 2,
      "outputs": []
    },
    {
      "metadata": {
        "trusted": true
      },
      "cell_type": "code",
      "source": "dia.head()",
      "execution_count": 3,
      "outputs": [
        {
          "output_type": "execute_result",
          "execution_count": 3,
          "data": {
            "text/html": "<div>\n<style scoped>\n    .dataframe tbody tr th:only-of-type {\n        vertical-align: middle;\n    }\n\n    .dataframe tbody tr th {\n        vertical-align: top;\n    }\n\n    .dataframe thead th {\n        text-align: right;\n    }\n</style>\n<table border=\"1\" class=\"dataframe\">\n  <thead>\n    <tr style=\"text-align: right;\">\n      <th></th>\n      <th>Pregnancies</th>\n      <th>Glucose</th>\n      <th>BloodPressure</th>\n      <th>SkinThickness</th>\n      <th>Insulin</th>\n      <th>BMI</th>\n      <th>DiabetesPedigreeFunction</th>\n      <th>Age</th>\n      <th>Outcome</th>\n    </tr>\n  </thead>\n  <tbody>\n    <tr>\n      <th>0</th>\n      <td>2</td>\n      <td>138</td>\n      <td>62</td>\n      <td>35</td>\n      <td>0</td>\n      <td>33.6</td>\n      <td>0.127</td>\n      <td>47</td>\n      <td>1</td>\n    </tr>\n    <tr>\n      <th>1</th>\n      <td>0</td>\n      <td>84</td>\n      <td>82</td>\n      <td>31</td>\n      <td>125</td>\n      <td>38.2</td>\n      <td>0.233</td>\n      <td>23</td>\n      <td>0</td>\n    </tr>\n    <tr>\n      <th>2</th>\n      <td>0</td>\n      <td>145</td>\n      <td>0</td>\n      <td>0</td>\n      <td>0</td>\n      <td>44.2</td>\n      <td>0.630</td>\n      <td>31</td>\n      <td>1</td>\n    </tr>\n    <tr>\n      <th>3</th>\n      <td>0</td>\n      <td>135</td>\n      <td>68</td>\n      <td>42</td>\n      <td>250</td>\n      <td>42.3</td>\n      <td>0.365</td>\n      <td>24</td>\n      <td>1</td>\n    </tr>\n    <tr>\n      <th>4</th>\n      <td>1</td>\n      <td>139</td>\n      <td>62</td>\n      <td>41</td>\n      <td>480</td>\n      <td>40.7</td>\n      <td>0.536</td>\n      <td>21</td>\n      <td>0</td>\n    </tr>\n  </tbody>\n</table>\n</div>",
            "text/plain": "   Pregnancies  Glucose  BloodPressure  SkinThickness  Insulin   BMI  \\\n0            2      138             62             35        0  33.6   \n1            0       84             82             31      125  38.2   \n2            0      145              0              0        0  44.2   \n3            0      135             68             42      250  42.3   \n4            1      139             62             41      480  40.7   \n\n   DiabetesPedigreeFunction  Age  Outcome  \n0                     0.127   47        1  \n1                     0.233   23        0  \n2                     0.630   31        1  \n3                     0.365   24        1  \n4                     0.536   21        0  "
          },
          "metadata": {}
        }
      ]
    },
    {
      "metadata": {
        "trusted": true
      },
      "cell_type": "code",
      "source": "dia.shape",
      "execution_count": 4,
      "outputs": [
        {
          "output_type": "execute_result",
          "execution_count": 4,
          "data": {
            "text/plain": "(2000, 9)"
          },
          "metadata": {}
        }
      ]
    },
    {
      "metadata": {
        "trusted": true
      },
      "cell_type": "code",
      "source": "dia.info() # No Null Values",
      "execution_count": 5,
      "outputs": [
        {
          "output_type": "stream",
          "text": "<class 'pandas.core.frame.DataFrame'>\nRangeIndex: 2000 entries, 0 to 1999\nData columns (total 9 columns):\nPregnancies                 2000 non-null int64\nGlucose                     2000 non-null int64\nBloodPressure               2000 non-null int64\nSkinThickness               2000 non-null int64\nInsulin                     2000 non-null int64\nBMI                         2000 non-null float64\nDiabetesPedigreeFunction    2000 non-null float64\nAge                         2000 non-null int64\nOutcome                     2000 non-null int64\ndtypes: float64(2), int64(7)\nmemory usage: 140.7 KB\n",
          "name": "stdout"
        }
      ]
    },
    {
      "metadata": {
        "trusted": true
      },
      "cell_type": "code",
      "source": "dia.isnull().sum()",
      "execution_count": 6,
      "outputs": [
        {
          "output_type": "execute_result",
          "execution_count": 6,
          "data": {
            "text/plain": "Pregnancies                 0\nGlucose                     0\nBloodPressure               0\nSkinThickness               0\nInsulin                     0\nBMI                         0\nDiabetesPedigreeFunction    0\nAge                         0\nOutcome                     0\ndtype: int64"
          },
          "metadata": {}
        }
      ]
    },
    {
      "metadata": {
        "trusted": true
      },
      "cell_type": "code",
      "source": "dia.head(10)",
      "execution_count": 7,
      "outputs": [
        {
          "output_type": "execute_result",
          "execution_count": 7,
          "data": {
            "text/html": "<div>\n<style scoped>\n    .dataframe tbody tr th:only-of-type {\n        vertical-align: middle;\n    }\n\n    .dataframe tbody tr th {\n        vertical-align: top;\n    }\n\n    .dataframe thead th {\n        text-align: right;\n    }\n</style>\n<table border=\"1\" class=\"dataframe\">\n  <thead>\n    <tr style=\"text-align: right;\">\n      <th></th>\n      <th>Pregnancies</th>\n      <th>Glucose</th>\n      <th>BloodPressure</th>\n      <th>SkinThickness</th>\n      <th>Insulin</th>\n      <th>BMI</th>\n      <th>DiabetesPedigreeFunction</th>\n      <th>Age</th>\n      <th>Outcome</th>\n    </tr>\n  </thead>\n  <tbody>\n    <tr>\n      <th>0</th>\n      <td>2</td>\n      <td>138</td>\n      <td>62</td>\n      <td>35</td>\n      <td>0</td>\n      <td>33.6</td>\n      <td>0.127</td>\n      <td>47</td>\n      <td>1</td>\n    </tr>\n    <tr>\n      <th>1</th>\n      <td>0</td>\n      <td>84</td>\n      <td>82</td>\n      <td>31</td>\n      <td>125</td>\n      <td>38.2</td>\n      <td>0.233</td>\n      <td>23</td>\n      <td>0</td>\n    </tr>\n    <tr>\n      <th>2</th>\n      <td>0</td>\n      <td>145</td>\n      <td>0</td>\n      <td>0</td>\n      <td>0</td>\n      <td>44.2</td>\n      <td>0.630</td>\n      <td>31</td>\n      <td>1</td>\n    </tr>\n    <tr>\n      <th>3</th>\n      <td>0</td>\n      <td>135</td>\n      <td>68</td>\n      <td>42</td>\n      <td>250</td>\n      <td>42.3</td>\n      <td>0.365</td>\n      <td>24</td>\n      <td>1</td>\n    </tr>\n    <tr>\n      <th>4</th>\n      <td>1</td>\n      <td>139</td>\n      <td>62</td>\n      <td>41</td>\n      <td>480</td>\n      <td>40.7</td>\n      <td>0.536</td>\n      <td>21</td>\n      <td>0</td>\n    </tr>\n    <tr>\n      <th>5</th>\n      <td>0</td>\n      <td>173</td>\n      <td>78</td>\n      <td>32</td>\n      <td>265</td>\n      <td>46.5</td>\n      <td>1.159</td>\n      <td>58</td>\n      <td>0</td>\n    </tr>\n    <tr>\n      <th>6</th>\n      <td>4</td>\n      <td>99</td>\n      <td>72</td>\n      <td>17</td>\n      <td>0</td>\n      <td>25.6</td>\n      <td>0.294</td>\n      <td>28</td>\n      <td>0</td>\n    </tr>\n    <tr>\n      <th>7</th>\n      <td>8</td>\n      <td>194</td>\n      <td>80</td>\n      <td>0</td>\n      <td>0</td>\n      <td>26.1</td>\n      <td>0.551</td>\n      <td>67</td>\n      <td>0</td>\n    </tr>\n    <tr>\n      <th>8</th>\n      <td>2</td>\n      <td>83</td>\n      <td>65</td>\n      <td>28</td>\n      <td>66</td>\n      <td>36.8</td>\n      <td>0.629</td>\n      <td>24</td>\n      <td>0</td>\n    </tr>\n    <tr>\n      <th>9</th>\n      <td>2</td>\n      <td>89</td>\n      <td>90</td>\n      <td>30</td>\n      <td>0</td>\n      <td>33.5</td>\n      <td>0.292</td>\n      <td>42</td>\n      <td>0</td>\n    </tr>\n  </tbody>\n</table>\n</div>",
            "text/plain": "   Pregnancies  Glucose  BloodPressure  SkinThickness  Insulin   BMI  \\\n0            2      138             62             35        0  33.6   \n1            0       84             82             31      125  38.2   \n2            0      145              0              0        0  44.2   \n3            0      135             68             42      250  42.3   \n4            1      139             62             41      480  40.7   \n5            0      173             78             32      265  46.5   \n6            4       99             72             17        0  25.6   \n7            8      194             80              0        0  26.1   \n8            2       83             65             28       66  36.8   \n9            2       89             90             30        0  33.5   \n\n   DiabetesPedigreeFunction  Age  Outcome  \n0                     0.127   47        1  \n1                     0.233   23        0  \n2                     0.630   31        1  \n3                     0.365   24        1  \n4                     0.536   21        0  \n5                     1.159   58        0  \n6                     0.294   28        0  \n7                     0.551   67        0  \n8                     0.629   24        0  \n9                     0.292   42        0  "
          },
          "metadata": {}
        }
      ]
    },
    {
      "metadata": {},
      "cell_type": "markdown",
      "source": "### Values of columns like 'Glucose', 'BloodPressure', 'SkinThickness', 'BMI', 'Insulin' cannot be accepted as ZERO as it will affect the outcome.\n### We can replace such values with the mean of that column bu first calculating the mean of individual column without Zero or by making it NAN in place of zero and then put mean value there."
    },
    {
      "metadata": {},
      "cell_type": "markdown",
      "source": "## Replace Zero"
    },
    {
      "metadata": {
        "trusted": true
      },
      "cell_type": "code",
      "source": "zero_not_accepted = ['Glucose','BMI', 'Insulin', 'BloodPressure', 'SkinThickness']",
      "execution_count": 8,
      "outputs": []
    },
    {
      "metadata": {
        "trusted": true
      },
      "cell_type": "code",
      "source": "zero_not_accepted",
      "execution_count": 9,
      "outputs": [
        {
          "output_type": "execute_result",
          "execution_count": 9,
          "data": {
            "text/plain": "['Glucose', 'BMI', 'Insulin', 'BloodPressure', 'SkinThickness']"
          },
          "metadata": {}
        }
      ]
    },
    {
      "metadata": {
        "trusted": true
      },
      "cell_type": "code",
      "source": "for column in zero_not_accepted:\n    dia[column]= dia[column].replace(0, np.NaN)\n    mean = int(dia[column].mean(skipna=True))\n    dia[column] = dia[column].replace(np.NaN, mean)",
      "execution_count": 10,
      "outputs": []
    },
    {
      "metadata": {
        "trusted": true
      },
      "cell_type": "code",
      "source": "X = dia.iloc[:,0:8]\ny = dia.iloc[:,8]",
      "execution_count": 11,
      "outputs": []
    },
    {
      "metadata": {
        "trusted": true
      },
      "cell_type": "code",
      "source": "X.head()",
      "execution_count": 12,
      "outputs": [
        {
          "output_type": "execute_result",
          "execution_count": 12,
          "data": {
            "text/html": "<div>\n<style scoped>\n    .dataframe tbody tr th:only-of-type {\n        vertical-align: middle;\n    }\n\n    .dataframe tbody tr th {\n        vertical-align: top;\n    }\n\n    .dataframe thead th {\n        text-align: right;\n    }\n</style>\n<table border=\"1\" class=\"dataframe\">\n  <thead>\n    <tr style=\"text-align: right;\">\n      <th></th>\n      <th>Pregnancies</th>\n      <th>Glucose</th>\n      <th>BloodPressure</th>\n      <th>SkinThickness</th>\n      <th>Insulin</th>\n      <th>BMI</th>\n      <th>DiabetesPedigreeFunction</th>\n      <th>Age</th>\n    </tr>\n  </thead>\n  <tbody>\n    <tr>\n      <th>0</th>\n      <td>2</td>\n      <td>138.0</td>\n      <td>62.0</td>\n      <td>35.0</td>\n      <td>153.0</td>\n      <td>33.6</td>\n      <td>0.127</td>\n      <td>47</td>\n    </tr>\n    <tr>\n      <th>1</th>\n      <td>0</td>\n      <td>84.0</td>\n      <td>82.0</td>\n      <td>31.0</td>\n      <td>125.0</td>\n      <td>38.2</td>\n      <td>0.233</td>\n      <td>23</td>\n    </tr>\n    <tr>\n      <th>2</th>\n      <td>0</td>\n      <td>145.0</td>\n      <td>72.0</td>\n      <td>29.0</td>\n      <td>153.0</td>\n      <td>44.2</td>\n      <td>0.630</td>\n      <td>31</td>\n    </tr>\n    <tr>\n      <th>3</th>\n      <td>0</td>\n      <td>135.0</td>\n      <td>68.0</td>\n      <td>42.0</td>\n      <td>250.0</td>\n      <td>42.3</td>\n      <td>0.365</td>\n      <td>24</td>\n    </tr>\n    <tr>\n      <th>4</th>\n      <td>1</td>\n      <td>139.0</td>\n      <td>62.0</td>\n      <td>41.0</td>\n      <td>480.0</td>\n      <td>40.7</td>\n      <td>0.536</td>\n      <td>21</td>\n    </tr>\n  </tbody>\n</table>\n</div>",
            "text/plain": "   Pregnancies  Glucose  BloodPressure  SkinThickness  Insulin   BMI  \\\n0            2    138.0           62.0           35.0    153.0  33.6   \n1            0     84.0           82.0           31.0    125.0  38.2   \n2            0    145.0           72.0           29.0    153.0  44.2   \n3            0    135.0           68.0           42.0    250.0  42.3   \n4            1    139.0           62.0           41.0    480.0  40.7   \n\n   DiabetesPedigreeFunction  Age  \n0                     0.127   47  \n1                     0.233   23  \n2                     0.630   31  \n3                     0.365   24  \n4                     0.536   21  "
          },
          "metadata": {}
        }
      ]
    },
    {
      "metadata": {
        "trusted": true
      },
      "cell_type": "code",
      "source": "X_train, X_test, y_train, y_test = train_test_split(X,y,test_size=0.2, random_state=100)",
      "execution_count": 13,
      "outputs": []
    },
    {
      "metadata": {},
      "cell_type": "markdown",
      "source": "### Scaling is needed as our data is fluctuating. Eg. In some columns the value are less and in some of the columns values are high in numbers"
    },
    {
      "metadata": {
        "trusted": true
      },
      "cell_type": "code",
      "source": "sc_X= StandardScaler()\nX_train = sc_X.fit_transform(X_train)\nX_test = sc_X.transform(X_test)",
      "execution_count": 14,
      "outputs": [
        {
          "output_type": "stream",
          "text": "/home/nbuser/anaconda3_501/lib/python3.6/site-packages/sklearn/preprocessing/data.py:645: DataConversionWarning: Data with input dtype int64, float64 were all converted to float64 by StandardScaler.\n  return self.partial_fit(X, y)\n/home/nbuser/anaconda3_501/lib/python3.6/site-packages/sklearn/base.py:464: DataConversionWarning: Data with input dtype int64, float64 were all converted to float64 by StandardScaler.\n  return self.fit(X, **fit_params).transform(X)\n/home/nbuser/anaconda3_501/lib/python3.6/site-packages/ipykernel/__main__.py:3: DataConversionWarning: Data with input dtype int64, float64 were all converted to float64 by StandardScaler.\n  app.launch_new_instance()\n",
          "name": "stderr"
        }
      ]
    },
    {
      "metadata": {},
      "cell_type": "markdown",
      "source": "### Using below code we can take the value of K but in our dataset we have big data of 2000 rows so it is showing K=19 so for now we are taking k=19 but for data having more than 500 rows we don't use KNN for classification.\n### P=2 means two classes"
    },
    {
      "metadata": {
        "trusted": true
      },
      "cell_type": "code",
      "source": "import math\nmath.sqrt(len(y_test))",
      "execution_count": 15,
      "outputs": [
        {
          "output_type": "execute_result",
          "execution_count": 15,
          "data": {
            "text/plain": "20.0"
          },
          "metadata": {}
        }
      ]
    },
    {
      "metadata": {
        "trusted": true
      },
      "cell_type": "code",
      "source": "model = KNeighborsClassifier(n_neighbors=19, p=2, metric= 'euclidean')",
      "execution_count": 16,
      "outputs": []
    },
    {
      "metadata": {
        "trusted": true
      },
      "cell_type": "code",
      "source": "model.fit(X_train, y_train)",
      "execution_count": 17,
      "outputs": [
        {
          "output_type": "execute_result",
          "execution_count": 17,
          "data": {
            "text/plain": "KNeighborsClassifier(algorithm='auto', leaf_size=30, metric='euclidean',\n           metric_params=None, n_jobs=None, n_neighbors=19, p=2,\n           weights='uniform')"
          },
          "metadata": {}
        }
      ]
    },
    {
      "metadata": {
        "trusted": true
      },
      "cell_type": "code",
      "source": "y_pred = model.predict(X_test)",
      "execution_count": 18,
      "outputs": []
    },
    {
      "metadata": {
        "trusted": true
      },
      "cell_type": "code",
      "source": "confusion_matrix(y_pred, y_test)",
      "execution_count": 19,
      "outputs": [
        {
          "output_type": "execute_result",
          "execution_count": 19,
          "data": {
            "text/plain": "array([[253,  34],\n       [ 44,  69]])"
          },
          "metadata": {}
        }
      ]
    },
    {
      "metadata": {
        "trusted": true
      },
      "cell_type": "code",
      "source": "f1_score(y_test, y_pred)",
      "execution_count": 20,
      "outputs": [
        {
          "output_type": "execute_result",
          "execution_count": 20,
          "data": {
            "text/plain": "0.638888888888889"
          },
          "metadata": {}
        }
      ]
    },
    {
      "metadata": {
        "trusted": true
      },
      "cell_type": "code",
      "source": "accuracy_score(y_test, y_pred)",
      "execution_count": 21,
      "outputs": [
        {
          "output_type": "execute_result",
          "execution_count": 21,
          "data": {
            "text/plain": "0.805"
          },
          "metadata": {}
        }
      ]
    },
    {
      "metadata": {},
      "cell_type": "markdown",
      "source": "## Using Logistic regression"
    },
    {
      "metadata": {
        "trusted": true
      },
      "cell_type": "code",
      "source": "from sklearn.linear_model import LogisticRegression\nmodel1 = LogisticRegression()\nmodel1.fit(X_train,y_train)\ny_pred1=model1.predict(X_test)\naccuracy_score(y_pred1, y_test)",
      "execution_count": 22,
      "outputs": [
        {
          "output_type": "stream",
          "text": "/home/nbuser/anaconda3_501/lib/python3.6/site-packages/sklearn/linear_model/logistic.py:433: FutureWarning: Default solver will be changed to 'lbfgs' in 0.22. Specify a solver to silence this warning.\n  FutureWarning)\n",
          "name": "stderr"
        },
        {
          "output_type": "execute_result",
          "execution_count": 22,
          "data": {
            "text/plain": "0.785"
          },
          "metadata": {}
        }
      ]
    }
  ],
  "metadata": {
    "kernelspec": {
      "name": "python36",
      "display_name": "Python 3.6",
      "language": "python"
    },
    "language_info": {
      "mimetype": "text/x-python",
      "nbconvert_exporter": "python",
      "name": "python",
      "pygments_lexer": "ipython3",
      "version": "3.6.6",
      "file_extension": ".py",
      "codemirror_mode": {
        "version": 3,
        "name": "ipython"
      }
    }
  },
  "nbformat": 4,
  "nbformat_minor": 2
}